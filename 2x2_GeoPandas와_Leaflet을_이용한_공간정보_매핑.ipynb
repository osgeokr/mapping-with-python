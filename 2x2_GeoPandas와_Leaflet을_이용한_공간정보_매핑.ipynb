{
 "cells": [
  {
   "cell_type": "code",
   "execution_count": 2,
   "metadata": {},
   "outputs": [],
   "source": [
    "# 라이브러맃 추가\n",
    "from ipyleaflet import *\n",
    "import geopandas as gpd"
   ]
  },
  {
   "cell_type": "code",
   "execution_count": 4,
   "metadata": {},
   "outputs": [],
   "source": [
    "# TMS(Tile Map Service: 타일 지도 서비스) 사용자 정의\n",
    "# QGIS 3.4에서 Vworld 지도서비스 이용하기 | http://blog.daum.net/geoscience/1295\n",
    "VworldBase = TileLayer(\n",
    "    url='http://api.vworld.kr/req/wmts/1.0.0/D05C77C9-AB62-3E70-9183-0E044A461BBD/Base/{z}/{y}/{x}.png',\n",
    "    name='VworldBase'\n",
    ")\n",
    "VworldGray = TileLayer(\n",
    "    url='http://api.vworld.kr/req/wmts/1.0.0/D05C77C9-AB62-3E70-9183-0E044A461BBD/gray/{z}/{y}/{x}.png',\n",
    "    name='VworldGray'\n",
    ")\n",
    "VworldHybrid = TileLayer(\n",
    "    url='http://api.vworld.kr/req/wmts/1.0.0/D05C77C9-AB62-3E70-9183-0E044A461BBD/Hybrid/{z}/{y}/{x}.png',\n",
    "    name='VworldHybrid'\n",
    ")\n",
    "VworldMidnight = TileLayer(\n",
    "    url='http://api.vworld.kr/req/wmts/1.0.0/D05C77C9-AB62-3E70-9183-0E044A461BBD/midnight/{z}/{y}/{x}.png',\n",
    "    name='VworldMidnight'\n",
    ")\n",
    "VworldSatellite = TileLayer(\n",
    "    url='http://api.vworld.kr/req/wmts/1.0.0/D05C77C9-AB62-3E70-9183-0E044A461BBD/Satellite/{z}/{y}/{x}.jpeg',\n",
    "    name='VworldSatellite'\n",
    ")"
   ]
  },
  {
   "cell_type": "code",
   "execution_count": 5,
   "metadata": {},
   "outputs": [
    {
     "data": {
      "application/vnd.jupyter.widget-view+json": {
       "model_id": "21bdfd7d3dc84f4d9c38e177a587e4db",
       "version_major": 2,
       "version_minor": 0
      },
      "text/plain": [
       "Map(basemap={'attribution': 'Map data (c) <a href=\"https://openstreetmap.org\">OpenStreetMap</a> contributors',…"
      ]
     },
     "metadata": {},
     "output_type": "display_data"
    }
   ],
   "source": [
    "# 지도 중심, 축척 조정\n",
    "center = [37.567392, 126.977862]; zoom = 5\n",
    "m = Map(center=center, zoom=zoom, attribution_control=False)\n",
    "m.add_layer(VworldSatellite)\n",
    "m.add_layer(VworldHybrid)\n",
    "m.add_control(FullScreenControl()); m.scroll_wheel_zoom=True\n",
    "m"
   ]
  },
  {
   "cell_type": "code",
   "execution_count": 12,
   "metadata": {},
   "outputs": [
    {
     "data": {
      "text/html": [
       "<div>\n",
       "<style scoped>\n",
       "    .dataframe tbody tr th:only-of-type {\n",
       "        vertical-align: middle;\n",
       "    }\n",
       "\n",
       "    .dataframe tbody tr th {\n",
       "        vertical-align: top;\n",
       "    }\n",
       "\n",
       "    .dataframe thead th {\n",
       "        text-align: right;\n",
       "    }\n",
       "</style>\n",
       "<table border=\"1\" class=\"dataframe\">\n",
       "  <thead>\n",
       "    <tr style=\"text-align: right;\">\n",
       "      <th></th>\n",
       "      <th>name</th>\n",
       "      <th>count</th>\n",
       "      <th>geometry</th>\n",
       "    </tr>\n",
       "  </thead>\n",
       "  <tbody>\n",
       "    <tr>\n",
       "      <td>0</td>\n",
       "      <td>Busan</td>\n",
       "      <td>325.0</td>\n",
       "      <td>(POLYGON ((128.99403381 34.98180389, 128.99403...</td>\n",
       "    </tr>\n",
       "    <tr>\n",
       "      <td>1</td>\n",
       "      <td>Chungcheongbuk-do</td>\n",
       "      <td>88.0</td>\n",
       "      <td>POLYGON ((128.01719666 36.20694733, 128.014709...</td>\n",
       "    </tr>\n",
       "    <tr>\n",
       "      <td>2</td>\n",
       "      <td>Chungcheongnam-do</td>\n",
       "      <td>255.0</td>\n",
       "      <td>(POLYGON ((126.61458588 36.06735992, 126.61458...</td>\n",
       "    </tr>\n",
       "    <tr>\n",
       "      <td>3</td>\n",
       "      <td>Daegu</td>\n",
       "      <td>283.0</td>\n",
       "      <td>POLYGON ((128.6879425 35.68164825, 128.6754303...</td>\n",
       "    </tr>\n",
       "    <tr>\n",
       "      <td>4</td>\n",
       "      <td>Daejeon</td>\n",
       "      <td>189.0</td>\n",
       "      <td>POLYGON ((127.38994598 36.20080566, 127.381622...</td>\n",
       "    </tr>\n",
       "  </tbody>\n",
       "</table>\n",
       "</div>"
      ],
      "text/plain": [
       "                name  count                                           geometry\n",
       "0              Busan  325.0  (POLYGON ((128.99403381 34.98180389, 128.99403...\n",
       "1  Chungcheongbuk-do   88.0  POLYGON ((128.01719666 36.20694733, 128.014709...\n",
       "2  Chungcheongnam-do  255.0  (POLYGON ((126.61458588 36.06735992, 126.61458...\n",
       "3              Daegu  283.0  POLYGON ((128.6879425 35.68164825, 128.6754303...\n",
       "4            Daejeon  189.0  POLYGON ((127.38994598 36.20080566, 127.381622..."
      ]
     },
     "execution_count": 12,
     "metadata": {},
     "output_type": "execute_result"
    }
   ],
   "source": [
    "# Shapefile 열기\n",
    "shapefile = 'D:\\GEODATA\\AML_HOSP_1.shp'\n",
    "gdf = gpd.read_file(shapefile)\n",
    "gdf.head()"
   ]
  },
  {
   "cell_type": "code",
   "execution_count": 11,
   "metadata": {},
   "outputs": [
    {
     "data": {
      "application/vnd.jupyter.widget-view+json": {
       "model_id": "21bdfd7d3dc84f4d9c38e177a587e4db",
       "version_major": 2,
       "version_minor": 0
      },
      "text/plain": [
       "Map(basemap={'attribution': 'Map data (c) <a href=\"https://openstreetmap.org\">OpenStreetMap</a> contributors',…"
      ]
     },
     "metadata": {},
     "output_type": "display_data"
    }
   ],
   "source": [
    "# Shapefile 추가\n",
    "geo_data = GeoData(geo_dataframe = gdf,\n",
    "                   style={'color': 'black', 'fillColor': '#3366cc', 'opacity':0.05, 'weight':1.9, 'dashArray':'2', 'fillOpacity':0.6},\n",
    "                   hover_style={'fillColor': 'red' , 'fillOpacity': 0.5},\n",
    "                   name = 'name')\n",
    "m.add_layer(geo_data)\n",
    "m"
   ]
  },
  {
   "cell_type": "code",
   "execution_count": null,
   "metadata": {},
   "outputs": [],
   "source": []
  }
 ],
 "metadata": {
  "kernelspec": {
   "display_name": "Python 3",
   "language": "python",
   "name": "python3"
  },
  "language_info": {
   "codemirror_mode": {
    "name": "ipython",
    "version": 3
   },
   "file_extension": ".py",
   "mimetype": "text/x-python",
   "name": "python",
   "nbconvert_exporter": "python",
   "pygments_lexer": "ipython3",
   "version": "3.5.4"
  }
 },
 "nbformat": 4,
 "nbformat_minor": 2
}
