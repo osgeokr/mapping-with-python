{
 "cells": [
  {
   "cell_type": "code",
   "execution_count": 1,
   "metadata": {},
   "outputs": [],
   "source": [
    "# 파이썬 설치 | https://www.python.org/\n",
    "# 주피터 노트북 설치 | pip install jupyter notebook"
   ]
  },
  {
   "cell_type": "code",
   "execution_count": 2,
   "metadata": {},
   "outputs": [
    {
     "name": "stdout",
     "output_type": "stream",
     "text": [
      "c:\\users\\bhyu\\appdata\\local\\programs\\python\\python35\\python.exe\n"
     ]
    }
   ],
   "source": [
    "import sys\n",
    "print(sys.executable) # 파이썬 실행 파일 경로"
   ]
  },
  {
   "cell_type": "code",
   "execution_count": 3,
   "metadata": {},
   "outputs": [
    {
     "name": "stdout",
     "output_type": "stream",
     "text": [
      "C:\\OTB-6.6.1-Win64\\lib\\python3\n",
      "c:\\users\\bhyu\\appdata\\local\\programs\\python\\python35\\python35.zip\n",
      "c:\\users\\bhyu\\appdata\\local\\programs\\python\\python35\\DLLs\n",
      "c:\\users\\bhyu\\appdata\\local\\programs\\python\\python35\\lib\n",
      "c:\\users\\bhyu\\appdata\\local\\programs\\python\\python35\n",
      "\n",
      "c:\\users\\bhyu\\appdata\\local\\programs\\python\\python35\\lib\\site-packages\n",
      "c:\\users\\bhyu\\appdata\\local\\programs\\python\\python35\\lib\\site-packages\\win32\n",
      "c:\\users\\bhyu\\appdata\\local\\programs\\python\\python35\\lib\\site-packages\\win32\\lib\n",
      "c:\\users\\bhyu\\appdata\\local\\programs\\python\\python35\\lib\\site-packages\\Pythonwin\n",
      "c:\\users\\bhyu\\appdata\\local\\programs\\python\\python35\\lib\\site-packages\\IPython\\extensions\n",
      "C:\\Users\\bhyu\\.ipython\n"
     ]
    }
   ],
   "source": [
    "print('\\n'.join(sys.path)) # 파이썬 라이브러리 설치 경로"
   ]
  },
  {
   "cell_type": "code",
   "execution_count": 4,
   "metadata": {},
   "outputs": [
    {
     "name": "stdout",
     "output_type": "stream",
     "text": [
      "Collecting pandas\n",
      "  Downloading https://files.pythonhosted.org/packages/78/7b/2e3657ede5369f0e88a1833c209cec095e3a8ba2665676a35d78aaee5ba2/pandas-0.25.1-cp35-cp35m-win_amd64.whl (8.8MB)\n",
      "Collecting numpy>=1.13.3 (from pandas)\n",
      "  Using cached https://files.pythonhosted.org/packages/78/d4/477f93a5325a9664086e158cd6292f88f4a3a2d9141814237dc04b378903/numpy-1.17.2-cp35-cp35m-win_amd64.whl\n",
      "Collecting pytz>=2017.2 (from pandas)\n",
      "  Downloading https://files.pythonhosted.org/packages/87/76/46d697698a143e05f77bec5a526bf4e56a0be61d63425b68f4ba553b51f2/pytz-2019.2-py2.py3-none-any.whl (508kB)\n",
      "Requirement already satisfied: python-dateutil>=2.6.1 in c:\\users\\bhyu\\appdata\\local\\programs\\python\\python35\\lib\\site-packages (from pandas) (2.8.0)\n",
      "Requirement already satisfied: six>=1.5 in c:\\users\\bhyu\\appdata\\local\\programs\\python\\python35\\lib\\site-packages (from python-dateutil>=2.6.1->pandas) (1.12.0)\n",
      "Installing collected packages: numpy, pytz, pandas\n",
      "Successfully installed numpy-1.17.2 pandas-0.25.1 pytz-2019.2\n"
     ]
    }
   ],
   "source": [
    "# Pandas(Python Data Analysis Library) 설치 | https://pandas.pydata.org/\n",
    "!pip install pandas"
   ]
  },
  {
   "cell_type": "code",
   "execution_count": 12,
   "metadata": {},
   "outputs": [
    {
     "name": "stdout",
     "output_type": "stream",
     "text": [
      "Collecting xlrd\n",
      "  Using cached https://files.pythonhosted.org/packages/b0/16/63576a1a001752e34bf8ea62e367997530dc553b689356b9879339cf45a4/xlrd-1.2.0-py2.py3-none-any.whl\n",
      "Installing collected packages: xlrd\n",
      "Successfully installed xlrd-1.2.0\n"
     ]
    }
   ],
   "source": [
    "# xlrd 설치\n",
    "!pip install xlrd"
   ]
  },
  {
   "cell_type": "code",
   "execution_count": 5,
   "metadata": {},
   "outputs": [
    {
     "name": "stdout",
     "output_type": "stream",
     "text": [
      "Collecting matplotlib\n",
      "  Using cached https://files.pythonhosted.org/packages/c9/1e/0cf26e92de5438d0f2118435476665aae843002f4701da296b0b3252a237/matplotlib-3.0.3-cp35-cp35m-win_amd64.whl\n",
      "Collecting cycler>=0.10 (from matplotlib)\n",
      "  Using cached https://files.pythonhosted.org/packages/f7/d2/e07d3ebb2bd7af696440ce7e754c59dd546ffe1bbe732c8ab68b9c834e61/cycler-0.10.0-py2.py3-none-any.whl\n",
      "Requirement already satisfied: numpy>=1.10.0 in c:\\users\\bhyu\\appdata\\local\\programs\\python\\python35\\lib\\site-packages (from matplotlib) (1.17.2)\n",
      "Collecting pyparsing!=2.0.4,!=2.1.2,!=2.1.6,>=2.0.1 (from matplotlib)\n",
      "  Downloading https://files.pythonhosted.org/packages/11/fa/0160cd525c62d7abd076a070ff02b2b94de589f1a9789774f17d7c54058e/pyparsing-2.4.2-py2.py3-none-any.whl (65kB)\n",
      "Collecting kiwisolver>=1.0.1 (from matplotlib)\n",
      "  Using cached https://files.pythonhosted.org/packages/e8/27/74677003aecfc85421f6b70db3e49b52e65f6497a5f2faf4e345588b3c61/kiwisolver-1.1.0-cp35-none-win_amd64.whl\n",
      "Requirement already satisfied: python-dateutil>=2.1 in c:\\users\\bhyu\\appdata\\local\\programs\\python\\python35\\lib\\site-packages (from matplotlib) (2.8.0)\n",
      "Requirement already satisfied: six in c:\\users\\bhyu\\appdata\\local\\programs\\python\\python35\\lib\\site-packages (from cycler>=0.10->matplotlib) (1.12.0)\n",
      "Requirement already satisfied: setuptools in c:\\users\\bhyu\\appdata\\local\\programs\\python\\python35\\lib\\site-packages (from kiwisolver>=1.0.1->matplotlib) (41.2.0)\n",
      "Installing collected packages: cycler, pyparsing, kiwisolver, matplotlib\n",
      "Successfully installed cycler-0.10.0 kiwisolver-1.1.0 matplotlib-3.0.3 pyparsing-2.4.2\n"
     ]
    }
   ],
   "source": [
    "# matplotlib 설치 | https://matplotlib.org/\n",
    "!pip install matplotlib"
   ]
  },
  {
   "cell_type": "code",
   "execution_count": 6,
   "metadata": {},
   "outputs": [
    {
     "name": "stdout",
     "output_type": "stream",
     "text": [
      "Collecting seaborn\n",
      "  Using cached https://files.pythonhosted.org/packages/a8/76/220ba4420459d9c4c9c9587c6ce607bf56c25b3d3d2de62056efe482dadc/seaborn-0.9.0-py3-none-any.whl\n",
      "Requirement already satisfied: pandas>=0.15.2 in c:\\users\\bhyu\\appdata\\local\\programs\\python\\python35\\lib\\site-packages (from seaborn) (0.25.1)\n",
      "Requirement already satisfied: numpy>=1.9.3 in c:\\users\\bhyu\\appdata\\local\\programs\\python\\python35\\lib\\site-packages (from seaborn) (1.17.2)\n",
      "Collecting scipy>=0.14.0 (from seaborn)\n",
      "  Using cached https://files.pythonhosted.org/packages/06/a5/d4c06f89886220668a66d9b0484d799d00bee102ccbf6d66686cde3de6a6/scipy-1.3.1-cp35-cp35m-win_amd64.whl\n",
      "Requirement already satisfied: matplotlib>=1.4.3 in c:\\users\\bhyu\\appdata\\local\\programs\\python\\python35\\lib\\site-packages (from seaborn) (3.0.3)\n",
      "Requirement already satisfied: pytz>=2017.2 in c:\\users\\bhyu\\appdata\\local\\programs\\python\\python35\\lib\\site-packages (from pandas>=0.15.2->seaborn) (2019.2)\n",
      "Requirement already satisfied: python-dateutil>=2.6.1 in c:\\users\\bhyu\\appdata\\local\\programs\\python\\python35\\lib\\site-packages (from pandas>=0.15.2->seaborn) (2.8.0)\n",
      "Requirement already satisfied: pyparsing!=2.0.4,!=2.1.2,!=2.1.6,>=2.0.1 in c:\\users\\bhyu\\appdata\\local\\programs\\python\\python35\\lib\\site-packages (from matplotlib>=1.4.3->seaborn) (2.4.2)\n",
      "Requirement already satisfied: kiwisolver>=1.0.1 in c:\\users\\bhyu\\appdata\\local\\programs\\python\\python35\\lib\\site-packages (from matplotlib>=1.4.3->seaborn) (1.1.0)\n",
      "Requirement already satisfied: cycler>=0.10 in c:\\users\\bhyu\\appdata\\local\\programs\\python\\python35\\lib\\site-packages (from matplotlib>=1.4.3->seaborn) (0.10.0)\n",
      "Requirement already satisfied: six>=1.5 in c:\\users\\bhyu\\appdata\\local\\programs\\python\\python35\\lib\\site-packages (from python-dateutil>=2.6.1->pandas>=0.15.2->seaborn) (1.12.0)\n",
      "Requirement already satisfied: setuptools in c:\\users\\bhyu\\appdata\\local\\programs\\python\\python35\\lib\\site-packages (from kiwisolver>=1.0.1->matplotlib>=1.4.3->seaborn) (41.2.0)\n",
      "Installing collected packages: scipy, seaborn\n",
      "Successfully installed scipy-1.3.1 seaborn-0.9.0\n"
     ]
    }
   ],
   "source": [
    "# Seaborn(statistical data visualization) 설치 | https://seaborn.pydata.org/\n",
    "!pip install seaborn"
   ]
  },
  {
   "cell_type": "code",
   "execution_count": 7,
   "metadata": {},
   "outputs": [
    {
     "name": "stdout",
     "output_type": "stream",
     "text": [
      "Processing d:\\geodata\\shapely-1.6.4.post2-cp35-cp35m-win_amd64.whl\n",
      "Installing collected packages: Shapely\n",
      "Successfully installed Shapely-1.6.4.post2\n",
      "Processing d:\\geodata\\gdal-2.4.1-cp35-cp35m-win_amd64.whl\n",
      "Installing collected packages: GDAL\n",
      "Successfully installed GDAL-2.4.1\n",
      "Processing d:\\geodata\\fiona-1.8.6-cp35-cp35m-win_amd64.whl\n",
      "Collecting munch (from Fiona==1.8.6)\n",
      "  Using cached https://files.pythonhosted.org/packages/68/f4/260ec98ea840757a0da09e0ed8135333d59b8dfebe9752a365b04857660a/munch-2.3.2.tar.gz\n",
      "Requirement already satisfied: six>=1.7 in c:\\users\\bhyu\\appdata\\local\\programs\\python\\python35\\lib\\site-packages (from Fiona==1.8.6) (1.12.0)\n",
      "Collecting cligj>=0.5 (from Fiona==1.8.6)\n",
      "  Using cached https://files.pythonhosted.org/packages/e4/be/30a58b4b0733850280d01f8bd132591b4668ed5c7046761098d665ac2174/cligj-0.5.0-py3-none-any.whl\n",
      "Collecting click>=4.0 (from Fiona==1.8.6)\n",
      "  Using cached https://files.pythonhosted.org/packages/fa/37/45185cb5abbc30d7257104c434fe0b07e5a195a6847506c074527aa599ec/Click-7.0-py2.py3-none-any.whl\n",
      "Collecting click-plugins>=1.0 (from Fiona==1.8.6)\n",
      "  Using cached https://files.pythonhosted.org/packages/e9/da/824b92d9942f4e472702488857914bdd50f73021efea15b4cad9aca8ecef/click_plugins-1.1.1-py2.py3-none-any.whl\n",
      "Requirement already satisfied: attrs>=17 in c:\\users\\bhyu\\appdata\\local\\programs\\python\\python35\\lib\\site-packages (from Fiona==1.8.6) (19.1.0)\n",
      "Building wheels for collected packages: munch\n",
      "  Building wheel for munch (setup.py): started\n",
      "  Building wheel for munch (setup.py): finished with status 'done'\n",
      "  Created wheel for munch: filename=munch-2.3.2-py2.py3-none-any.whl size=6617 sha256=b6ab1adf851f853a6696adf870f1f8d2a850f521ad4e2881bcbd519abf6da9ad\n",
      "  Stored in directory: C:\\Users\\bhyu\\AppData\\Local\\pip\\Cache\\wheels\\db\\bf\\bc\\06a3e1bfe0ab27d2e720ceb3cff3159398d92644c0cec2c125\n",
      "Successfully built munch\n",
      "Installing collected packages: munch, click, cligj, click-plugins, Fiona\n",
      "Successfully installed Fiona-1.8.6 click-7.0 click-plugins-1.1.1 cligj-0.5.0 munch-2.3.2\n",
      "Processing d:\\geodata\\pyproj-1.9.6-cp35-cp35m-win_amd64.whl\n",
      "Installing collected packages: pyproj\n",
      "Successfully installed pyproj-1.9.6\n"
     ]
    }
   ],
   "source": [
    "# Unofficial Windows Binaries for Python Extension Packages | https://www.lfd.uci.edu/~gohlke/pythonlibs/\n",
    "# whl을 통한 의존성 라이브러리 설치\n",
    "\n",
    "# shapely 설치 | https://www.lfd.uci.edu/~gohlke/pythonlibs/#shapely\n",
    "!pip install D:/GEODATA/Shapely-1.6.4.post2-cp35-cp35m-win_amd64.whl\n",
    "\n",
    "# GDAL 설치 | https://www.lfd.uci.edu/~gohlke/pythonlibs/#gdal\n",
    "!pip install D:/GEODATA/GDAL-2.4.1-cp35-cp35m-win_amd64.whl\n",
    "\n",
    "# Fiona 설치 | https://www.lfd.uci.edu/~gohlke/pythonlibs/#fiona\n",
    "!pip install D:/GEODATA/Fiona-1.8.6-cp35-cp35m-win_amd64.whl\n",
    "    \n",
    "# pyproj 설치 | https://www.lfd.uci.edu/~gohlke/pythonlibs/#pyproj\n",
    "!pip install D:/GEODATA/pyproj-1.9.6-cp35-cp35m-win_amd64.whl"
   ]
  },
  {
   "cell_type": "code",
   "execution_count": 8,
   "metadata": {},
   "outputs": [
    {
     "name": "stdout",
     "output_type": "stream",
     "text": [
      "Collecting geopandas\n",
      "  Using cached https://files.pythonhosted.org/packages/21/80/da2a33c9201cd4ce693f4aa6189efc9ef1a48bec1c3b02c3ce9908b07fec/geopandas-0.5.1-py2.py3-none-any.whl\n",
      "Requirement already satisfied: shapely in c:\\users\\bhyu\\appdata\\local\\programs\\python\\python35\\lib\\site-packages (from geopandas) (1.6.4.post2)\n",
      "Requirement already satisfied: pyproj in c:\\users\\bhyu\\appdata\\local\\programs\\python\\python35\\lib\\site-packages (from geopandas) (1.9.6)\n",
      "Requirement already satisfied: pandas in c:\\users\\bhyu\\appdata\\local\\programs\\python\\python35\\lib\\site-packages (from geopandas) (0.25.1)\n",
      "Requirement already satisfied: fiona in c:\\users\\bhyu\\appdata\\local\\programs\\python\\python35\\lib\\site-packages (from geopandas) (1.8.6)\n",
      "Requirement already satisfied: python-dateutil>=2.6.1 in c:\\users\\bhyu\\appdata\\local\\programs\\python\\python35\\lib\\site-packages (from pandas->geopandas) (2.8.0)\n",
      "Requirement already satisfied: numpy>=1.13.3 in c:\\users\\bhyu\\appdata\\local\\programs\\python\\python35\\lib\\site-packages (from pandas->geopandas) (1.17.2)\n",
      "Requirement already satisfied: pytz>=2017.2 in c:\\users\\bhyu\\appdata\\local\\programs\\python\\python35\\lib\\site-packages (from pandas->geopandas) (2019.2)\n",
      "Requirement already satisfied: click-plugins>=1.0 in c:\\users\\bhyu\\appdata\\local\\programs\\python\\python35\\lib\\site-packages (from fiona->geopandas) (1.1.1)\n",
      "Requirement already satisfied: click>=4.0 in c:\\users\\bhyu\\appdata\\local\\programs\\python\\python35\\lib\\site-packages (from fiona->geopandas) (7.0)\n",
      "Requirement already satisfied: six>=1.7 in c:\\users\\bhyu\\appdata\\local\\programs\\python\\python35\\lib\\site-packages (from fiona->geopandas) (1.12.0)\n",
      "Requirement already satisfied: cligj>=0.5 in c:\\users\\bhyu\\appdata\\local\\programs\\python\\python35\\lib\\site-packages (from fiona->geopandas) (0.5.0)\n",
      "Requirement already satisfied: munch in c:\\users\\bhyu\\appdata\\local\\programs\\python\\python35\\lib\\site-packages (from fiona->geopandas) (2.3.2)\n",
      "Requirement already satisfied: attrs>=17 in c:\\users\\bhyu\\appdata\\local\\programs\\python\\python35\\lib\\site-packages (from fiona->geopandas) (19.1.0)\n",
      "Installing collected packages: geopandas\n",
      "Successfully installed geopandas-0.5.1\n"
     ]
    }
   ],
   "source": [
    "# GeoPandas 설치 | http://geopandas.org/\n",
    "!pip install geopandas"
   ]
  },
  {
   "cell_type": "code",
   "execution_count": 15,
   "metadata": {},
   "outputs": [
    {
     "name": "stdout",
     "output_type": "stream",
     "text": [
      "Collecting mapclassify\n",
      "  Using cached https://files.pythonhosted.org/packages/9f/db/f35469e8acd792dad07e8908cd0df03615dad5e3bf4dac79d9e8512cef89/mapclassify-2.1.1.tar.gz\n",
      "Requirement already satisfied: scipy>=0.11 in c:\\users\\bhyu\\appdata\\local\\programs\\python\\python35\\lib\\site-packages (from mapclassify) (1.3.1)\n",
      "Requirement already satisfied: numpy>=1.3 in c:\\users\\bhyu\\appdata\\local\\programs\\python\\python35\\lib\\site-packages (from mapclassify) (1.17.2)\n",
      "Collecting scikit-learn (from mapclassify)\n",
      "  Using cached https://files.pythonhosted.org/packages/2a/26/96b3628f1ad4d66a25cf4e26a87c8d5983c9c1ff27563445b70e3beadcdd/scikit_learn-0.21.3-cp35-cp35m-win_amd64.whl\n",
      "Requirement already satisfied: pandas in c:\\users\\bhyu\\appdata\\local\\programs\\python\\python35\\lib\\site-packages (from mapclassify) (0.25.1)\n",
      "Collecting deprecated (from mapclassify)\n",
      "  Using cached https://files.pythonhosted.org/packages/88/0e/9d5a1a8cd7130c49334cce7b8167ceda63d6a329c8ea65b626116bc9e9e6/Deprecated-1.2.6-py2.py3-none-any.whl\n",
      "Collecting joblib>=0.11 (from scikit-learn->mapclassify)\n",
      "  Using cached https://files.pythonhosted.org/packages/cd/c1/50a758e8247561e58cb87305b1e90b171b8c767b15b12a1734001f41d356/joblib-0.13.2-py2.py3-none-any.whl\n",
      "Requirement already satisfied: python-dateutil>=2.6.1 in c:\\users\\bhyu\\appdata\\local\\programs\\python\\python35\\lib\\site-packages (from pandas->mapclassify) (2.8.0)\n",
      "Requirement already satisfied: pytz>=2017.2 in c:\\users\\bhyu\\appdata\\local\\programs\\python\\python35\\lib\\site-packages (from pandas->mapclassify) (2019.2)\n",
      "Collecting wrapt<2,>=1.10 (from deprecated->mapclassify)\n",
      "  Using cached https://files.pythonhosted.org/packages/23/84/323c2415280bc4fc880ac5050dddfb3c8062c2552b34c2e512eb4aa68f79/wrapt-1.11.2.tar.gz\n",
      "Requirement already satisfied: six>=1.5 in c:\\users\\bhyu\\appdata\\local\\programs\\python\\python35\\lib\\site-packages (from python-dateutil>=2.6.1->pandas->mapclassify) (1.12.0)\n",
      "Building wheels for collected packages: mapclassify, wrapt\n",
      "  Building wheel for mapclassify (setup.py): started\n",
      "  Building wheel for mapclassify (setup.py): finished with status 'done'\n",
      "  Created wheel for mapclassify: filename=mapclassify-2.1.1-cp35-none-any.whl size=29008 sha256=98794369e2cc3c6c05938d133b0f30727d3a767700ed90e75e1eb1e58754320c\n",
      "  Stored in directory: C:\\Users\\bhyu\\AppData\\Local\\pip\\Cache\\wheels\\fc\\b8\\58\\56b650743289cbecb476ef1fc50ab0aeaa0b12e56ad912d624\n",
      "  Building wheel for wrapt (setup.py): started\n",
      "  Building wheel for wrapt (setup.py): finished with status 'done'\n",
      "  Created wheel for wrapt: filename=wrapt-1.11.2-cp35-none-any.whl size=19597 sha256=d1eaf9e8bd5fcbffb1dc61fdbe5b552db7d48c67d8cdf48c7c3f9daf28e9ae9a\n",
      "  Stored in directory: C:\\Users\\bhyu\\AppData\\Local\\pip\\Cache\\wheels\\d7\\de\\2e\\efa132238792efb6459a96e85916ef8597fcb3d2ae51590dfd\n",
      "Successfully built mapclassify wrapt\n",
      "Installing collected packages: joblib, scikit-learn, wrapt, deprecated, mapclassify\n",
      "Successfully installed deprecated-1.2.6 joblib-0.13.2 mapclassify-2.1.1 scikit-learn-0.21.3 wrapt-1.11.2\n"
     ]
    }
   ],
   "source": [
    "# mapclassify 설치\n",
    "!pip install mapclassify"
   ]
  },
  {
   "cell_type": "code",
   "execution_count": 14,
   "metadata": {},
   "outputs": [
    {
     "name": "stdout",
     "output_type": "stream",
     "text": [
      "Collecting descartes\n",
      "  Using cached https://files.pythonhosted.org/packages/e5/b6/1ed2eb03989ae574584664985367ba70cd9cf8b32ee8cad0e8aaeac819f3/descartes-1.1.0-py3-none-any.whl\n",
      "Requirement already satisfied: matplotlib in c:\\users\\bhyu\\appdata\\local\\programs\\python\\python35\\lib\\site-packages (from descartes) (3.0.3)\n",
      "Requirement already satisfied: python-dateutil>=2.1 in c:\\users\\bhyu\\appdata\\local\\programs\\python\\python35\\lib\\site-packages (from matplotlib->descartes) (2.8.0)\n",
      "Requirement already satisfied: pyparsing!=2.0.4,!=2.1.2,!=2.1.6,>=2.0.1 in c:\\users\\bhyu\\appdata\\local\\programs\\python\\python35\\lib\\site-packages (from matplotlib->descartes) (2.4.2)\n",
      "Requirement already satisfied: numpy>=1.10.0 in c:\\users\\bhyu\\appdata\\local\\programs\\python\\python35\\lib\\site-packages (from matplotlib->descartes) (1.17.2)\n",
      "Requirement already satisfied: cycler>=0.10 in c:\\users\\bhyu\\appdata\\local\\programs\\python\\python35\\lib\\site-packages (from matplotlib->descartes) (0.10.0)\n",
      "Requirement already satisfied: kiwisolver>=1.0.1 in c:\\users\\bhyu\\appdata\\local\\programs\\python\\python35\\lib\\site-packages (from matplotlib->descartes) (1.1.0)\n",
      "Requirement already satisfied: six>=1.5 in c:\\users\\bhyu\\appdata\\local\\programs\\python\\python35\\lib\\site-packages (from python-dateutil>=2.1->matplotlib->descartes) (1.12.0)\n",
      "Requirement already satisfied: setuptools in c:\\users\\bhyu\\appdata\\local\\programs\\python\\python35\\lib\\site-packages (from kiwisolver>=1.0.1->matplotlib->descartes) (41.2.0)\n",
      "Installing collected packages: descartes\n",
      "Successfully installed descartes-1.1.0\n"
     ]
    }
   ],
   "source": [
    "# descartes 설치\n",
    "!pip install descartes"
   ]
  },
  {
   "cell_type": "code",
   "execution_count": 9,
   "metadata": {},
   "outputs": [
    {
     "name": "stdout",
     "output_type": "stream",
     "text": [
      "Collecting ipyleaflet\n",
      "  Using cached https://files.pythonhosted.org/packages/7e/64/cace6b65a441d0cc03e0c9ab347c1d29dacb3e3c1210fd7787316104e7b0/ipyleaflet-0.11.2-py2.py3-none-any.whl\n",
      "Requirement already satisfied: ipywidgets<8,>=7.5.0 in c:\\users\\bhyu\\appdata\\local\\programs\\python\\python35\\lib\\site-packages (from ipyleaflet) (7.5.1)\n",
      "Collecting xarray>=0.10 (from ipyleaflet)\n",
      "  Using cached https://files.pythonhosted.org/packages/e0/7b/b969f686fa7d15232be520d7d82f9818afc2e7027c1c215d742dd9e244b2/xarray-0.13.0-py2.py3-none-any.whl\n",
      "Collecting branca<0.4,>=0.3.1 (from ipyleaflet)\n",
      "  Using cached https://files.pythonhosted.org/packages/63/36/1c93318e9653f4e414a2e0c3b98fc898b4970e939afeedeee6075dd3b703/branca-0.3.1-py3-none-any.whl\n",
      "Collecting traittypes<3,>=0.2.1 (from ipyleaflet)\n",
      "  Using cached https://files.pythonhosted.org/packages/9c/d1/8d5bd662703cc1764d986f6908a608777305946fa634d34c470cd4a1e729/traittypes-0.2.1-py2.py3-none-any.whl\n",
      "Requirement already satisfied: traitlets>=4.3.1 in c:\\users\\bhyu\\appdata\\local\\programs\\python\\python35\\lib\\site-packages (from ipywidgets<8,>=7.5.0->ipyleaflet) (4.3.2)\n",
      "Requirement already satisfied: ipython>=4.0.0; python_version >= \"3.3\" in c:\\users\\bhyu\\appdata\\local\\programs\\python\\python35\\lib\\site-packages (from ipywidgets<8,>=7.5.0->ipyleaflet) (7.8.0)\n",
      "Requirement already satisfied: widgetsnbextension~=3.5.0 in c:\\users\\bhyu\\appdata\\local\\programs\\python\\python35\\lib\\site-packages (from ipywidgets<8,>=7.5.0->ipyleaflet) (3.5.1)\n",
      "Requirement already satisfied: nbformat>=4.2.0 in c:\\users\\bhyu\\appdata\\local\\programs\\python\\python35\\lib\\site-packages (from ipywidgets<8,>=7.5.0->ipyleaflet) (4.4.0)\n",
      "Requirement already satisfied: ipykernel>=4.5.1 in c:\\users\\bhyu\\appdata\\local\\programs\\python\\python35\\lib\\site-packages (from ipywidgets<8,>=7.5.0->ipyleaflet) (5.1.2)\n",
      "Requirement already satisfied: pandas>=0.19.2 in c:\\users\\bhyu\\appdata\\local\\programs\\python\\python35\\lib\\site-packages (from xarray>=0.10->ipyleaflet) (0.25.1)\n",
      "Requirement already satisfied: numpy>=1.12 in c:\\users\\bhyu\\appdata\\local\\programs\\python\\python35\\lib\\site-packages (from xarray>=0.10->ipyleaflet) (1.17.2)\n",
      "Requirement already satisfied: six in c:\\users\\bhyu\\appdata\\local\\programs\\python\\python35\\lib\\site-packages (from branca<0.4,>=0.3.1->ipyleaflet) (1.12.0)\n",
      "Requirement already satisfied: jinja2 in c:\\users\\bhyu\\appdata\\local\\programs\\python\\python35\\lib\\site-packages (from branca<0.4,>=0.3.1->ipyleaflet) (2.10.1)\n",
      "Requirement already satisfied: ipython-genutils in c:\\users\\bhyu\\appdata\\local\\programs\\python\\python35\\lib\\site-packages (from traitlets>=4.3.1->ipywidgets<8,>=7.5.0->ipyleaflet) (0.2.0)\n",
      "Requirement already satisfied: decorator in c:\\users\\bhyu\\appdata\\local\\programs\\python\\python35\\lib\\site-packages (from traitlets>=4.3.1->ipywidgets<8,>=7.5.0->ipyleaflet) (4.4.0)\n",
      "Requirement already satisfied: colorama; sys_platform == \"win32\" in c:\\users\\bhyu\\appdata\\local\\programs\\python\\python35\\lib\\site-packages (from ipython>=4.0.0; python_version >= \"3.3\"->ipywidgets<8,>=7.5.0->ipyleaflet) (0.4.1)\n",
      "Requirement already satisfied: setuptools>=18.5 in c:\\users\\bhyu\\appdata\\local\\programs\\python\\python35\\lib\\site-packages (from ipython>=4.0.0; python_version >= \"3.3\"->ipywidgets<8,>=7.5.0->ipyleaflet) (41.2.0)\n",
      "Requirement already satisfied: prompt-toolkit<2.1.0,>=2.0.0 in c:\\users\\bhyu\\appdata\\local\\programs\\python\\python35\\lib\\site-packages (from ipython>=4.0.0; python_version >= \"3.3\"->ipywidgets<8,>=7.5.0->ipyleaflet) (2.0.9)\n",
      "Requirement already satisfied: win-unicode-console>=0.5; sys_platform == \"win32\" and python_version < \"3.6\" in c:\\users\\bhyu\\appdata\\local\\programs\\python\\python35\\lib\\site-packages (from ipython>=4.0.0; python_version >= \"3.3\"->ipywidgets<8,>=7.5.0->ipyleaflet) (0.5)\n",
      "Requirement already satisfied: pickleshare in c:\\users\\bhyu\\appdata\\local\\programs\\python\\python35\\lib\\site-packages (from ipython>=4.0.0; python_version >= \"3.3\"->ipywidgets<8,>=7.5.0->ipyleaflet) (0.7.5)\n",
      "Requirement already satisfied: pygments in c:\\users\\bhyu\\appdata\\local\\programs\\python\\python35\\lib\\site-packages (from ipython>=4.0.0; python_version >= \"3.3\"->ipywidgets<8,>=7.5.0->ipyleaflet) (2.4.2)\n",
      "Requirement already satisfied: jedi>=0.10 in c:\\users\\bhyu\\appdata\\local\\programs\\python\\python35\\lib\\site-packages (from ipython>=4.0.0; python_version >= \"3.3\"->ipywidgets<8,>=7.5.0->ipyleaflet) (0.15.1)\n",
      "Requirement already satisfied: backcall in c:\\users\\bhyu\\appdata\\local\\programs\\python\\python35\\lib\\site-packages (from ipython>=4.0.0; python_version >= \"3.3\"->ipywidgets<8,>=7.5.0->ipyleaflet) (0.1.0)\n",
      "Requirement already satisfied: notebook>=4.4.1 in c:\\users\\bhyu\\appdata\\local\\programs\\python\\python35\\lib\\site-packages (from widgetsnbextension~=3.5.0->ipywidgets<8,>=7.5.0->ipyleaflet) (6.0.1)\n",
      "Requirement already satisfied: jsonschema!=2.5.0,>=2.4 in c:\\users\\bhyu\\appdata\\local\\programs\\python\\python35\\lib\\site-packages (from nbformat>=4.2.0->ipywidgets<8,>=7.5.0->ipyleaflet) (3.0.2)\n",
      "Requirement already satisfied: jupyter-core in c:\\users\\bhyu\\appdata\\local\\programs\\python\\python35\\lib\\site-packages (from nbformat>=4.2.0->ipywidgets<8,>=7.5.0->ipyleaflet) (4.5.0)\n",
      "Requirement already satisfied: tornado>=4.2 in c:\\users\\bhyu\\appdata\\local\\programs\\python\\python35\\lib\\site-packages (from ipykernel>=4.5.1->ipywidgets<8,>=7.5.0->ipyleaflet) (6.0.3)\n",
      "Requirement already satisfied: jupyter-client in c:\\users\\bhyu\\appdata\\local\\programs\\python\\python35\\lib\\site-packages (from ipykernel>=4.5.1->ipywidgets<8,>=7.5.0->ipyleaflet) (5.3.3)\n",
      "Requirement already satisfied: pytz>=2017.2 in c:\\users\\bhyu\\appdata\\local\\programs\\python\\python35\\lib\\site-packages (from pandas>=0.19.2->xarray>=0.10->ipyleaflet) (2019.2)\n",
      "Requirement already satisfied: python-dateutil>=2.6.1 in c:\\users\\bhyu\\appdata\\local\\programs\\python\\python35\\lib\\site-packages (from pandas>=0.19.2->xarray>=0.10->ipyleaflet) (2.8.0)\n",
      "Requirement already satisfied: MarkupSafe>=0.23 in c:\\users\\bhyu\\appdata\\local\\programs\\python\\python35\\lib\\site-packages (from jinja2->branca<0.4,>=0.3.1->ipyleaflet) (1.1.1)\n",
      "Requirement already satisfied: wcwidth in c:\\users\\bhyu\\appdata\\local\\programs\\python\\python35\\lib\\site-packages (from prompt-toolkit<2.1.0,>=2.0.0->ipython>=4.0.0; python_version >= \"3.3\"->ipywidgets<8,>=7.5.0->ipyleaflet) (0.1.7)\n",
      "Requirement already satisfied: parso>=0.5.0 in c:\\users\\bhyu\\appdata\\local\\programs\\python\\python35\\lib\\site-packages (from jedi>=0.10->ipython>=4.0.0; python_version >= \"3.3\"->ipywidgets<8,>=7.5.0->ipyleaflet) (0.5.1)\n",
      "Requirement already satisfied: nbconvert in c:\\users\\bhyu\\appdata\\local\\programs\\python\\python35\\lib\\site-packages (from notebook>=4.4.1->widgetsnbextension~=3.5.0->ipywidgets<8,>=7.5.0->ipyleaflet) (5.6.0)\n",
      "Requirement already satisfied: Send2Trash in c:\\users\\bhyu\\appdata\\local\\programs\\python\\python35\\lib\\site-packages (from notebook>=4.4.1->widgetsnbextension~=3.5.0->ipywidgets<8,>=7.5.0->ipyleaflet) (1.5.0)\n",
      "Requirement already satisfied: terminado>=0.8.1 in c:\\users\\bhyu\\appdata\\local\\programs\\python\\python35\\lib\\site-packages (from notebook>=4.4.1->widgetsnbextension~=3.5.0->ipywidgets<8,>=7.5.0->ipyleaflet) (0.8.2)\n",
      "Requirement already satisfied: prometheus-client in c:\\users\\bhyu\\appdata\\local\\programs\\python\\python35\\lib\\site-packages (from notebook>=4.4.1->widgetsnbextension~=3.5.0->ipywidgets<8,>=7.5.0->ipyleaflet) (0.7.1)\n",
      "Requirement already satisfied: pyzmq>=17 in c:\\users\\bhyu\\appdata\\local\\programs\\python\\python35\\lib\\site-packages (from notebook>=4.4.1->widgetsnbextension~=3.5.0->ipywidgets<8,>=7.5.0->ipyleaflet) (18.1.0)\n",
      "Requirement already satisfied: pyrsistent>=0.14.0 in c:\\users\\bhyu\\appdata\\local\\programs\\python\\python35\\lib\\site-packages (from jsonschema!=2.5.0,>=2.4->nbformat>=4.2.0->ipywidgets<8,>=7.5.0->ipyleaflet) (0.15.4)\n",
      "Requirement already satisfied: attrs>=17.4.0 in c:\\users\\bhyu\\appdata\\local\\programs\\python\\python35\\lib\\site-packages (from jsonschema!=2.5.0,>=2.4->nbformat>=4.2.0->ipywidgets<8,>=7.5.0->ipyleaflet) (19.1.0)\n",
      "Requirement already satisfied: pywin32>=1.0; sys_platform == \"win32\" in c:\\users\\bhyu\\appdata\\local\\programs\\python\\python35\\lib\\site-packages (from jupyter-client->ipykernel>=4.5.1->ipywidgets<8,>=7.5.0->ipyleaflet) (225)\n",
      "Requirement already satisfied: bleach in c:\\users\\bhyu\\appdata\\local\\programs\\python\\python35\\lib\\site-packages (from nbconvert->notebook>=4.4.1->widgetsnbextension~=3.5.0->ipywidgets<8,>=7.5.0->ipyleaflet) (3.1.0)\n",
      "Requirement already satisfied: mistune<2,>=0.8.1 in c:\\users\\bhyu\\appdata\\local\\programs\\python\\python35\\lib\\site-packages (from nbconvert->notebook>=4.4.1->widgetsnbextension~=3.5.0->ipywidgets<8,>=7.5.0->ipyleaflet) (0.8.4)\n",
      "Requirement already satisfied: entrypoints>=0.2.2 in c:\\users\\bhyu\\appdata\\local\\programs\\python\\python35\\lib\\site-packages (from nbconvert->notebook>=4.4.1->widgetsnbextension~=3.5.0->ipywidgets<8,>=7.5.0->ipyleaflet) (0.3)\n",
      "Requirement already satisfied: testpath in c:\\users\\bhyu\\appdata\\local\\programs\\python\\python35\\lib\\site-packages (from nbconvert->notebook>=4.4.1->widgetsnbextension~=3.5.0->ipywidgets<8,>=7.5.0->ipyleaflet) (0.4.2)\n",
      "Requirement already satisfied: defusedxml in c:\\users\\bhyu\\appdata\\local\\programs\\python\\python35\\lib\\site-packages (from nbconvert->notebook>=4.4.1->widgetsnbextension~=3.5.0->ipywidgets<8,>=7.5.0->ipyleaflet) (0.6.0)\n",
      "Requirement already satisfied: pandocfilters>=1.4.1 in c:\\users\\bhyu\\appdata\\local\\programs\\python\\python35\\lib\\site-packages (from nbconvert->notebook>=4.4.1->widgetsnbextension~=3.5.0->ipywidgets<8,>=7.5.0->ipyleaflet) (1.4.2)\n",
      "Requirement already satisfied: pywinpty>=0.5; os_name == \"nt\" in c:\\users\\bhyu\\appdata\\local\\programs\\python\\python35\\lib\\site-packages (from terminado>=0.8.1->notebook>=4.4.1->widgetsnbextension~=3.5.0->ipywidgets<8,>=7.5.0->ipyleaflet) (0.5.5)\n",
      "Requirement already satisfied: webencodings in c:\\users\\bhyu\\appdata\\local\\programs\\python\\python35\\lib\\site-packages (from bleach->nbconvert->notebook>=4.4.1->widgetsnbextension~=3.5.0->ipywidgets<8,>=7.5.0->ipyleaflet) (0.5.1)\n",
      "Installing collected packages: xarray, branca, traittypes, ipyleaflet\n",
      "Successfully installed branca-0.3.1 ipyleaflet-0.11.2 traittypes-0.2.1 xarray-0.13.0\n"
     ]
    }
   ],
   "source": [
    "# ipyleaflet 설치 | https://pypi.org/project/ipyleaflet/\n",
    "!pip install ipyleaflet"
   ]
  },
  {
   "cell_type": "code",
   "execution_count": 10,
   "metadata": {},
   "outputs": [
    {
     "name": "stdout",
     "output_type": "stream",
     "text": [
      "Collecting netcdf4\n",
      "  Using cached https://files.pythonhosted.org/packages/dc/ff/ea157a468042914446c58055684d4e3800ef4e7ac408bfcc1a8d941aa6e6/netCDF4-1.5.2-cp35-cp35m-win_amd64.whl\n",
      "Collecting cftime (from netcdf4)\n",
      "  Using cached https://files.pythonhosted.org/packages/2f/3e/e6cd9bdd8909aa918f58ce8fdf467e2de5d3b47158249b45c18be946db90/cftime-1.0.3.4-cp35-none-win_amd64.whl\n",
      "Requirement already satisfied: numpy>=1.7 in c:\\users\\bhyu\\appdata\\local\\programs\\python\\python35\\lib\\site-packages (from netcdf4) (1.17.2)\n",
      "Installing collected packages: cftime, netcdf4\n",
      "Successfully installed cftime-1.0.3.4 netcdf4-1.5.2\n"
     ]
    }
   ],
   "source": [
    "# netcdf4 설치\n",
    "!pip install netcdf4"
   ]
  },
  {
   "cell_type": "code",
   "execution_count": 11,
   "metadata": {},
   "outputs": [
    {
     "name": "stdout",
     "output_type": "stream",
     "text": [
      "Collecting plotly\n",
      "  Using cached https://files.pythonhosted.org/packages/70/19/8437e22c84083a6d5d8a3c80f4edc73c9dcbb89261d07e6bd13b48752bbd/plotly-4.1.1-py2.py3-none-any.whl\n",
      "Collecting retrying>=1.3.3 (from plotly)\n",
      "Requirement already satisfied: six in c:\\users\\bhyu\\appdata\\local\\programs\\python\\python35\\lib\\site-packages (from plotly) (1.12.0)\n",
      "Installing collected packages: retrying, plotly\n",
      "Successfully installed plotly-4.1.1 retrying-1.3.3\n"
     ]
    }
   ],
   "source": [
    "# plotly 설치(Plotly Python Open Source Graphing Library) | https://plot.ly/python/\n",
    "!pip install plotly"
   ]
  },
  {
   "cell_type": "code",
   "execution_count": null,
   "metadata": {},
   "outputs": [],
   "source": []
  }
 ],
 "metadata": {
  "kernelspec": {
   "display_name": "Python 3",
   "language": "python",
   "name": "python3"
  },
  "language_info": {
   "codemirror_mode": {
    "name": "ipython",
    "version": 3
   },
   "file_extension": ".py",
   "mimetype": "text/x-python",
   "name": "python",
   "nbconvert_exporter": "python",
   "pygments_lexer": "ipython3",
   "version": "3.5.4"
  }
 },
 "nbformat": 4,
 "nbformat_minor": 2
}
