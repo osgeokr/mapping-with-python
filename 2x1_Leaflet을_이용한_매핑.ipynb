{
 "cells": [
  {
   "cell_type": "code",
   "execution_count": 1,
   "metadata": {},
   "outputs": [],
   "source": [
    "# Jupyter Notebook에서 대화형 지도를 사용할 수 있는 Jupyter/Leaflet 브리지\n",
    "# ipyleaflet 깃허브: https://github.com/jupyter-widgets/ipyleaflet\n",
    "# ipyleaflet Read the Docs: https://ipyleaflet.readthedocs.io/en/latest/\n",
    "from ipyleaflet import *"
   ]
  },
  {
   "cell_type": "code",
   "execution_count": 6,
   "metadata": {},
   "outputs": [
    {
     "data": {
      "application/vnd.jupyter.widget-view+json": {
       "model_id": "f3990946286544bb8bb5689fe5a381cb",
       "version_major": 2,
       "version_minor": 0
      },
      "text/plain": [
       "Map(basemap={'attribution': 'Map data (c) <a href=\"https://openstreetmap.org\">OpenStreetMap</a> contributors',…"
      ]
     },
     "metadata": {},
     "output_type": "display_data"
    }
   ],
   "source": [
    "# 지도 표시 (위도, 경도)\n",
    "m = Map(center=(38, 127), zoom=8)\n",
    "m"
   ]
  },
  {
   "cell_type": "code",
   "execution_count": 7,
   "metadata": {},
   "outputs": [
    {
     "data": {
      "application/vnd.jupyter.widget-view+json": {
       "model_id": "1fe2de449b794af88c84755123dce834",
       "version_major": 2,
       "version_minor": 0
      },
      "text/plain": [
       "Map(basemap={'attribution': 'Tiles &copy; Esri &mdash; Source: Esri, DeLorme, NAVTEQ, USGS, Intermap, iPC, NRC…"
      ]
     },
     "metadata": {},
     "output_type": "display_data"
    }
   ],
   "source": [
    "# 기본지도 표시 (Esri WorldStreetMap)\n",
    "# https://github.com/jupyter-widgets/ipyleaflet/blob/master/ipyleaflet/basemaps.py\n",
    "m = Map(center=(38, 127), zoom=8, basemap=basemaps.Esri.WorldStreetMap)\n",
    "m"
   ]
  },
  {
   "cell_type": "code",
   "execution_count": 8,
   "metadata": {},
   "outputs": [
    {
     "data": {
      "application/vnd.jupyter.widget-view+json": {
       "model_id": "722327476a3e4497ab8023cbe2d226a3",
       "version_major": 2,
       "version_minor": 0
      },
      "text/plain": [
       "Map(basemap={'attribution': 'Tiles &copy; Esri &mdash; Source: Esri, i-cubed, USDA, USGS, AEX, GeoEye, Getmapp…"
      ]
     },
     "metadata": {},
     "output_type": "display_data"
    }
   ],
   "source": [
    "# 기본지도 표시 (Esri WorldImagery)\n",
    "# https://github.com/jupyter-widgets/ipyleaflet/blob/master/ipyleaflet/basemaps.py\n",
    "m = Map(center=(38, 127), zoom=8, basemap=basemaps.Esri.WorldImagery)\n",
    "m"
   ]
  },
  {
   "cell_type": "code",
   "execution_count": 9,
   "metadata": {},
   "outputs": [
    {
     "data": {
      "application/vnd.jupyter.widget-view+json": {
       "model_id": "d7f71d04a6624b498904878718068ec6",
       "version_major": 2,
       "version_minor": 0
      },
      "text/plain": [
       "Map(basemap={'attribution': 'Tiles &copy; Esri &mdash; Source: Esri, i-cubed, USDA, USGS, AEX, GeoEye, Getmapp…"
      ]
     },
     "metadata": {},
     "output_type": "display_data"
    }
   ],
   "source": [
    "# 지도 중심, 축척 조정\n",
    "center = [37.567392, 126.977862]; zoom = 18\n",
    "m = Map(center=center, zoom=zoom, basemap=basemaps.Esri.WorldImagery)\n",
    "m"
   ]
  },
  {
   "cell_type": "code",
   "execution_count": 10,
   "metadata": {},
   "outputs": [],
   "source": [
    "# TMS(Tile Map Service: 타일 지도 서비스) 사용자 정의\n",
    "# QGIS 3.4에서 Vworld 지도서비스 이용하기 | http://blog.daum.net/geoscience/1295\n",
    "VworldBase = TileLayer(\n",
    "    url='http://api.vworld.kr/req/wmts/1.0.0/D05C77C9-AB62-3E70-9183-0E044A461BBD/Base/{z}/{y}/{x}.png',\n",
    "    name='VworldBase'\n",
    ")\n",
    "VworldGray = TileLayer(\n",
    "    url='http://api.vworld.kr/req/wmts/1.0.0/D05C77C9-AB62-3E70-9183-0E044A461BBD/gray/{z}/{y}/{x}.png',\n",
    "    name='VworldGray'\n",
    ")\n",
    "VworldHybrid = TileLayer(\n",
    "    url='http://api.vworld.kr/req/wmts/1.0.0/D05C77C9-AB62-3E70-9183-0E044A461BBD/Hybrid/{z}/{y}/{x}.png',\n",
    "    name='VworldHybrid'\n",
    ")\n",
    "VworldMidnight = TileLayer(\n",
    "    url='http://api.vworld.kr/req/wmts/1.0.0/D05C77C9-AB62-3E70-9183-0E044A461BBD/midnight/{z}/{y}/{x}.png',\n",
    "    name='VworldMidnight'\n",
    ")\n",
    "VworldSatellite = TileLayer(\n",
    "    url='http://api.vworld.kr/req/wmts/1.0.0/D05C77C9-AB62-3E70-9183-0E044A461BBD/Satellite/{z}/{y}/{x}.jpeg',\n",
    "    name='VworldSatellite'\n",
    ")"
   ]
  },
  {
   "cell_type": "code",
   "execution_count": 11,
   "metadata": {},
   "outputs": [
    {
     "data": {
      "application/vnd.jupyter.widget-view+json": {
       "model_id": "2d8f5c5d7d04468495f41d24e75e9f64",
       "version_major": 2,
       "version_minor": 0
      },
      "text/plain": [
       "Map(basemap={'attribution': 'Map data (c) <a href=\"https://openstreetmap.org\">OpenStreetMap</a> contributors',…"
      ]
     },
     "metadata": {},
     "output_type": "display_data"
    }
   ],
   "source": [
    "# 타일 레이어 추가(VworldBase)\n",
    "m = Map(center=center, zoom=zoom)\n",
    "m.add_layer(VworldBase)\n",
    "m"
   ]
  },
  {
   "cell_type": "code",
   "execution_count": 12,
   "metadata": {},
   "outputs": [
    {
     "data": {
      "application/vnd.jupyter.widget-view+json": {
       "model_id": "2d8f5c5d7d04468495f41d24e75e9f64",
       "version_major": 2,
       "version_minor": 0
      },
      "text/plain": [
       "Map(basemap={'attribution': 'Map data (c) <a href=\"https://openstreetmap.org\">OpenStreetMap</a> contributors',…"
      ]
     },
     "metadata": {},
     "output_type": "display_data"
    }
   ],
   "source": [
    "# 타일 레이어 추가(VworldSatellite, VworldHybrid)\n",
    "m.remove_layer(VworldBase)\n",
    "m.add_layer(VworldSatellite)\n",
    "m.add_layer(VworldHybrid)\n",
    "m"
   ]
  },
  {
   "cell_type": "code",
   "execution_count": 13,
   "metadata": {},
   "outputs": [
    {
     "data": {
      "application/vnd.jupyter.widget-view+json": {
       "model_id": "2d8f5c5d7d04468495f41d24e75e9f64",
       "version_major": 2,
       "version_minor": 0
      },
      "text/plain": [
       "Map(basemap={'attribution': 'Map data (c) <a href=\"https://openstreetmap.org\">OpenStreetMap</a> contributors',…"
      ]
     },
     "metadata": {},
     "output_type": "display_data"
    }
   ],
   "source": [
    "# 레이어 컨트롤 추가\n",
    "m.clear_layers()\n",
    "m.add_layer(VworldSatellite)     # 영상지도\n",
    "m.add_layer(VworldHybrid)        # 하이브리드지도\n",
    "m.add_layer(VworldMidnight)      # 야간지도\n",
    "m.add_layer(VworldGray)          # 회색지도\n",
    "m.add_layer(VworldBase)          # 배경지도\n",
    "m.add_control(LayersControl())\n",
    "m"
   ]
  },
  {
   "cell_type": "code",
   "execution_count": 14,
   "metadata": {},
   "outputs": [
    {
     "data": {
      "application/vnd.jupyter.widget-view+json": {
       "model_id": "36fd0d623e1849dc9c0837994c44b7c3",
       "version_major": 2,
       "version_minor": 0
      },
      "text/plain": [
       "Map(basemap={'attribution': 'Map data (c) <a href=\"https://openstreetmap.org\">OpenStreetMap</a> contributors',…"
      ]
     },
     "metadata": {},
     "output_type": "display_data"
    }
   ],
   "source": [
    "# 분할지도 컨트롤 추가\n",
    "m = Map(center=center, zoom=zoom,\n",
    "        attribution_control=False) # 속성 컨트롤 해제\n",
    "left_layer = basemap_to_tiles(basemaps.Esri.WorldImagery)\n",
    "right_layer = VworldSatellite\n",
    "control = SplitMapControl(left_layer=left_layer, right_layer=right_layer)\n",
    "m.add_control(control)\n",
    "m"
   ]
  },
  {
   "cell_type": "code",
   "execution_count": 15,
   "metadata": {},
   "outputs": [
    {
     "data": {
      "application/vnd.jupyter.widget-view+json": {
       "model_id": "36fd0d623e1849dc9c0837994c44b7c3",
       "version_major": 2,
       "version_minor": 0
      },
      "text/plain": [
       "Map(basemap={'attribution': 'Map data (c) <a href=\"https://openstreetmap.org\">OpenStreetMap</a> contributors',…"
      ]
     },
     "metadata": {},
     "output_type": "display_data"
    }
   ],
   "source": [
    "# 전체화면 컨트롤 추가\n",
    "m.add_control(FullScreenControl())\n",
    "m"
   ]
  },
  {
   "cell_type": "code",
   "execution_count": 16,
   "metadata": {},
   "outputs": [
    {
     "data": {
      "application/vnd.jupyter.widget-view+json": {
       "model_id": "36fd0d623e1849dc9c0837994c44b7c3",
       "version_major": 2,
       "version_minor": 0
      },
      "text/plain": [
       "Map(basemap={'attribution': 'Map data (c) <a href=\"https://openstreetmap.org\">OpenStreetMap</a> contributors',…"
      ]
     },
     "metadata": {},
     "output_type": "display_data"
    }
   ],
   "source": [
    "# 마우스 휠 줌 추가\n",
    "m.scroll_wheel_zoom=True\n",
    "m"
   ]
  },
  {
   "cell_type": "code",
   "execution_count": 17,
   "metadata": {},
   "outputs": [
    {
     "data": {
      "application/vnd.jupyter.widget-view+json": {
       "model_id": "683fdadb0de64e1c92a0b1e400928668",
       "version_major": 2,
       "version_minor": 0
      },
      "text/plain": [
       "Map(basemap={'attribution': 'Map data (c) <a href=\"https://openstreetmap.org\">OpenStreetMap</a> contributors',…"
      ]
     },
     "metadata": {},
     "output_type": "display_data"
    }
   ],
   "source": [
    "# Global Wind 레이어 추가\n",
    "# https://ipyleaflet.readthedocs.io/en/latest/api_reference/velocity.html\n",
    "\n",
    "from ipyleaflet import Map, Velocity, TileLayer, basemaps\n",
    "import xarray as xr\n",
    "import os\n",
    "\n",
    "if not os.path.exists('wind-global.nc'):\n",
    "  url = 'https://github.com/benbovy/xvelmap/raw/master/notebooks/wind-global.nc'\n",
    "  import requests\n",
    "  r = requests.get(url)\n",
    "  wind_data = r.content\n",
    "  with open('wind-global.nc', 'wb') as f:\n",
    "      f.write(wind_data)\n",
    "\n",
    "center = [37.567392, 126.977862]\n",
    "zoom = 10\n",
    "m = Map(center=center, zoom=zoom, interpolation='nearest', attribution_control=False)\n",
    "\n",
    "ds = xr.open_dataset('wind-global.nc')\n",
    "display_options = {\n",
    "    'velocityType': 'Global Wind',\n",
    "    'displayPosition': 'bottomleft',\n",
    "    'displayEmptyString': 'No wind data'\n",
    "}\n",
    "wind = Velocity(data=ds,\n",
    "                zonal_speed='u_wind',\n",
    "                meridional_speed='v_wind',\n",
    "                latitude_dimension='lat',\n",
    "                longitude_dimension='lon',\n",
    "                velocity_scale=0.01,\n",
    "                max_velocity=20,\n",
    "                display_options=display_options)\n",
    "m.add_layer(VworldMidnight)\n",
    "m.add_layer(wind)\n",
    "m.add_control(FullScreenControl())\n",
    "m.scroll_wheel_zoom=True\n",
    "m"
   ]
  },
  {
   "cell_type": "code",
   "execution_count": 18,
   "metadata": {},
   "outputs": [
    {
     "data": {
      "application/vnd.jupyter.widget-view+json": {
       "model_id": "7ad9f1bd34c54f159d30e125ce2aefb8",
       "version_major": 2,
       "version_minor": 0
      },
      "text/plain": [
       "Map(basemap={'attribution': 'Map data (c) <a href=\"https://openstreetmap.org\">OpenStreetMap</a> contributors',…"
      ]
     },
     "metadata": {},
     "output_type": "display_data"
    }
   ],
   "source": [
    "# 분할지도 컨트롤 추가\n",
    "# https://leaflet-extras.github.io/leaflet-providers/preview/\n",
    "center = [38.2, 128.2]; zoom = 9\n",
    "m = Map(center=center, zoom=zoom, attribution_control=False) # 속성 컨트롤 해제\n",
    "left_layer = basemap_to_tiles(basemaps.NASAGIBS.ModisTerraTrueColorCR, \"2009-09-01\")\n",
    "right_layer = basemap_to_tiles(basemaps.NASAGIBS.ModisTerraTrueColorCR, \"2019-09-18\")\n",
    "control = SplitMapControl(left_layer=left_layer, right_layer=right_layer)\n",
    "m.add_control(FullScreenControl())\n",
    "m.scroll_wheel_zoom=True\n",
    "m.add_control(control)\n",
    "m"
   ]
  },
  {
   "cell_type": "code",
   "execution_count": null,
   "metadata": {},
   "outputs": [],
   "source": []
  }
 ],
 "metadata": {
  "kernelspec": {
   "display_name": "Python 3",
   "language": "python",
   "name": "python3"
  },
  "language_info": {
   "codemirror_mode": {
    "name": "ipython",
    "version": 3
   },
   "file_extension": ".py",
   "mimetype": "text/x-python",
   "name": "python",
   "nbconvert_exporter": "python",
   "pygments_lexer": "ipython3",
   "version": "3.5.4"
  }
 },
 "nbformat": 4,
 "nbformat_minor": 2
}
